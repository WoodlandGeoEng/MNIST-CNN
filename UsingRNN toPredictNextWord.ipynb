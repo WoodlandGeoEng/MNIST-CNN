{
 "cells": [
  {
   "cell_type": "code",
   "execution_count": 1,
   "metadata": {
    "slideshow": {
     "slide_type": "slide"
    }
   },
   "outputs": [],
   "source": [
    "import warnings\n",
    "warnings.filterwarnings('ignore')\n",
    "import pandas as pd\n",
    "import livelossplot"
   ]
  },
  {
   "cell_type": "code",
   "execution_count": 2,
   "metadata": {
    "slideshow": {
     "slide_type": "slide"
    }
   },
   "outputs": [],
   "source": [
    "with open('sample.txt', 'r') as file: text = file.read()"
   ]
  },
  {
   "cell_type": "code",
   "execution_count": 3,
   "metadata": {
    "slideshow": {
     "slide_type": "slide"
    }
   },
   "outputs": [],
   "source": [
    "with open('shakespeare.txt', 'r') as file:\n",
    "\n",
    "    text = file.read()\n",
    "\n",
    "lines = text.lower().split('\\n')\n",
    "\n",
    "#print(lines)"
   ]
  },
  {
   "cell_type": "code",
   "execution_count": 4,
   "metadata": {
    "slideshow": {
     "slide_type": "slide"
    }
   },
   "outputs": [
    {
     "name": "stderr",
     "output_type": "stream",
     "text": [
      "Using TensorFlow backend.\n"
     ]
    }
   ],
   "source": [
    "from keras.preprocessing.text import text_to_word_sequence\n",
    "words = text_to_word_sequence(text)"
   ]
  },
  {
   "cell_type": "code",
   "execution_count": 5,
   "metadata": {
    "slideshow": {
     "slide_type": "slide"
    }
   },
   "outputs": [],
   "source": [
    "from keras.preprocessing.text import Tokenizer \n",
    "tokenizer = Tokenizer()\n",
    "tokenizer.fit_on_texts(words)\n",
    "tokens = tokenizer.word_index\n",
    "#print(tokens)"
   ]
  },
  {
   "cell_type": "code",
   "execution_count": 6,
   "metadata": {},
   "outputs": [
    {
     "name": "stdout",
     "output_type": "stream",
     "text": [
      "460\n"
     ]
    }
   ],
   "source": [
    "vocabulary_size = len(tokens) + 1 \n",
    "print(vocabulary_size)"
   ]
  },
  {
   "cell_type": "code",
   "execution_count": 7,
   "metadata": {},
   "outputs": [],
   "source": [
    "sequences = tokenizer.texts_to_sequences(lines)"
   ]
  },
  {
   "cell_type": "code",
   "execution_count": 8,
   "metadata": {},
   "outputs": [],
   "source": [
    "subsequences = []\n",
    "for sequence in sequences:\n",
    "    for i in range(1, len(sequence)): \n",
    "        subsequence = sequence[:i+1] \n",
    "        subsequences.append(subsequence)"
   ]
  },
  {
   "cell_type": "code",
   "execution_count": 9,
   "metadata": {},
   "outputs": [],
   "source": [
    "from keras.preprocessing.sequence import pad_sequences \n",
    "sequence_length = max([len(sequence) for sequence in sequences])\n",
    "sequences = pad_sequences(subsequences, maxlen=sequence_length, padding='pre')"
   ]
  },
  {
   "cell_type": "code",
   "execution_count": 10,
   "metadata": {},
   "outputs": [],
   "source": [
    "x, y = sequences[:,:-1],sequences[:,-1]"
   ]
  },
  {
   "cell_type": "code",
   "execution_count": 11,
   "metadata": {},
   "outputs": [],
   "source": [
    "from keras.utils import to_categorical\n",
    "y = to_categorical(y, num_classes=vocabulary_size)"
   ]
  },
  {
   "cell_type": "markdown",
   "metadata": {},
   "source": [
    "### Now create the Network"
   ]
  },
  {
   "cell_type": "code",
   "execution_count": 12,
   "metadata": {},
   "outputs": [],
   "source": [
    "from keras.models import Sequential \n",
    "model = Sequential()"
   ]
  },
  {
   "cell_type": "code",
   "execution_count": 13,
   "metadata": {},
   "outputs": [
    {
     "name": "stdout",
     "output_type": "stream",
     "text": [
      "WARNING:tensorflow:From C:\\ProgramData\\Anaconda3\\lib\\site-packages\\tensorflow\\python\\framework\\op_def_library.py:263: colocate_with (from tensorflow.python.framework.ops) is deprecated and will be removed in a future version.\n",
      "Instructions for updating:\n",
      "Colocations handled automatically by placer.\n"
     ]
    }
   ],
   "source": [
    "from keras.layers import Embedding\n",
    "model.add(Embedding(input_dim = vocabulary_size, # 582\n",
    "                    output_dim = 100,\n",
    "                    input_length = sequence_length - 1)) # input_dim"
   ]
  },
  {
   "cell_type": "markdown",
   "metadata": {},
   "source": [
    "### Add input layer"
   ]
  },
  {
   "cell_type": "code",
   "execution_count": 14,
   "metadata": {},
   "outputs": [],
   "source": [
    "from keras.layers import LSTM \n",
    "model.add(LSTM(units = 100))"
   ]
  },
  {
   "cell_type": "markdown",
   "metadata": {},
   "source": [
    "### Add first hidden layer, with the dropout layer"
   ]
  },
  {
   "cell_type": "code",
   "execution_count": 15,
   "metadata": {},
   "outputs": [
    {
     "name": "stdout",
     "output_type": "stream",
     "text": [
      "WARNING:tensorflow:From C:\\ProgramData\\Anaconda3\\lib\\site-packages\\keras\\backend\\tensorflow_backend.py:3445: calling dropout (from tensorflow.python.ops.nn_ops) with keep_prob is deprecated and will be removed in a future version.\n",
      "Instructions for updating:\n",
      "Please use `rate` instead of `keep_prob`. Rate should be set to `rate = 1 - keep_prob`.\n"
     ]
    }
   ],
   "source": [
    "from keras.layers import Dropout, Dense \n",
    "model.add(Dropout(0.1))"
   ]
  },
  {
   "cell_type": "markdown",
   "metadata": {},
   "source": [
    "### Add Output Layer: The output layer is a fully-connected layer with the softmax activation function, and the output units are equal to the vocabulary size"
   ]
  },
  {
   "cell_type": "code",
   "execution_count": 16,
   "metadata": {},
   "outputs": [],
   "source": [
    "model.add(Dense(units=vocabulary_size, activation='softmax'))"
   ]
  },
  {
   "cell_type": "code",
   "execution_count": 17,
   "metadata": {},
   "outputs": [],
   "source": [
    "model.compile(optimizer='adam', loss='categorical_crossentropy', metrics=['accuracy'])"
   ]
  },
  {
   "cell_type": "code",
   "execution_count": 18,
   "metadata": {},
   "outputs": [
    {
     "name": "stdout",
     "output_type": "stream",
     "text": [
      "_________________________________________________________________\n",
      "Layer (type)                 Output Shape              Param #   \n",
      "=================================================================\n",
      "embedding_1 (Embedding)      (None, 148, 100)          46000     \n",
      "_________________________________________________________________\n",
      "lstm_1 (LSTM)                (None, 100)               80400     \n",
      "_________________________________________________________________\n",
      "dropout_1 (Dropout)          (None, 100)               0         \n",
      "_________________________________________________________________\n",
      "dense_1 (Dense)              (None, 460)               46460     \n",
      "=================================================================\n",
      "Total params: 172,860\n",
      "Trainable params: 172,860\n",
      "Non-trainable params: 0\n",
      "_________________________________________________________________\n"
     ]
    }
   ],
   "source": [
    "model.summary()"
   ]
  },
  {
   "cell_type": "markdown",
   "metadata": {},
   "source": [
    "### Use model.fit() to train the RNN using x and y for 500 training epochs"
   ]
  },
  {
   "cell_type": "code",
   "execution_count": 19,
   "metadata": {},
   "outputs": [],
   "source": [
    "plot_loss_RNN = livelossplot.PlotLossesKeras()"
   ]
  },
  {
   "cell_type": "code",
   "execution_count": 20,
   "metadata": {},
   "outputs": [
    {
     "data": {
      "image/png": "[encoded data removed]",
      "text/plain": [
       "<Figure size 864x576 with 2 Axes>"
      ]
     },
     "metadata": {
      "needs_background": "light"
     },
     "output_type": "display_data"
    },
    {
     "name": "stdout",
     "output_type": "stream",
     "text": [
      "Log-loss (cost function):\n",
      "training   (min:    0.501, max:    6.003, cur:    0.501)\n",
      "\n",
      "Accuracy:\n",
      "training   (min:    0.033, max:    0.975, cur:    0.975)\n"
     ]
    },
    {
     "data": {
      "text/plain": [
       "<keras.callbacks.History at 0x19ce613e160>"
      ]
     },
     "execution_count": 20,
     "metadata": {},
     "output_type": "execute_result"
    }
   ],
   "source": [
    "model.fit(x, y,callbacks = [plot_loss_RNN],epochs = 60) # Less epochs - Basic Model"
   ]
  },
  {
   "cell_type": "code",
   "execution_count": 21,
   "metadata": {
    "slideshow": {
     "slide_type": "skip"
    }
   },
   "outputs": [
    {
     "name": "stdout",
     "output_type": "stream",
     "text": [
      "Epoch 1/60\n",
      "1119/1119 [==============================] - 5s 4ms/step - loss: 0.4642 - acc: 0.9786\n",
      "Epoch 2/60\n",
      "1119/1119 [==============================] - 4s 4ms/step - loss: 0.4504 - acc: 0.9803\n",
      "Epoch 3/60\n",
      "1119/1119 [==============================] - 4s 4ms/step - loss: 0.4267 - acc: 0.9777\n",
      "Epoch 4/60\n",
      "1119/1119 [==============================] - 5s 4ms/step - loss: 0.4054 - acc: 0.9866\n",
      "Epoch 5/60\n",
      "1119/1119 [==============================] - 4s 4ms/step - loss: 0.3834 - acc: 0.9866\n",
      "Epoch 6/60\n",
      "1119/1119 [==============================] - 4s 4ms/step - loss: 0.3698 - acc: 0.9839\n",
      "Epoch 7/60\n",
      "1119/1119 [==============================] - 4s 4ms/step - loss: 0.3568 - acc: 0.9857\n",
      "Epoch 8/60\n",
      "1119/1119 [==============================] - 5s 4ms/step - loss: 0.3402 - acc: 0.9893\n",
      "Epoch 9/60\n",
      "1119/1119 [==============================] - 4s 4ms/step - loss: 0.3182 - acc: 0.9875\n",
      "Epoch 10/60\n",
      "1119/1119 [==============================] - 4s 4ms/step - loss: 0.3080 - acc: 0.9902\n",
      "Epoch 11/60\n",
      "1119/1119 [==============================] - 5s 4ms/step - loss: 0.2864 - acc: 0.9929\n",
      "Epoch 12/60\n",
      "1119/1119 [==============================] - 5s 4ms/step - loss: 0.2801 - acc: 0.9893\n",
      "Epoch 13/60\n",
      "1119/1119 [==============================] - 5s 5ms/step - loss: 0.2664 - acc: 0.9929\n",
      "Epoch 14/60\n",
      "1119/1119 [==============================] - 5s 5ms/step - loss: 0.2609 - acc: 0.9911\n",
      "Epoch 15/60\n",
      "1119/1119 [==============================] - 5s 5ms/step - loss: 0.2498 - acc: 0.9929\n",
      "Epoch 16/60\n",
      "1119/1119 [==============================] - 6s 5ms/step - loss: 0.2345 - acc: 0.9929A\n",
      "Epoch 17/60\n",
      "1119/1119 [==============================] - 5s 5ms/step - loss: 0.2317 - acc: 0.9946\n",
      "Epoch 18/60\n",
      "1119/1119 [==============================] - 6s 5ms/step - loss: 0.2205 - acc: 0.9929\n",
      "Epoch 19/60\n",
      "1119/1119 [==============================] - 5s 4ms/step - loss: 0.2115 - acc: 0.9929\n",
      "Epoch 20/60\n",
      "1119/1119 [==============================] - 6s 5ms/step - loss: 0.2025 - acc: 0.9920A: 0s - loss: 0.2027 - acc: 0.99\n",
      "Epoch 21/60\n",
      "1119/1119 [==============================] - 7s 6ms/step - loss: 0.1986 - acc: 0.9946\n",
      "Epoch 22/60\n",
      "1119/1119 [==============================] - 5s 5ms/step - loss: 0.1899 - acc: 0.9955\n",
      "Epoch 23/60\n",
      "1119/1119 [==============================] - 6s 5ms/step - loss: 0.1796 - acc: 0.9946\n",
      "Epoch 24/60\n",
      "1119/1119 [==============================] - 5s 4ms/step - loss: 0.1751 - acc: 0.9964\n",
      "Epoch 25/60\n",
      "1119/1119 [==============================] - 4s 4ms/step - loss: 0.1643 - acc: 0.9955\n",
      "Epoch 26/60\n",
      "1119/1119 [==============================] - 5s 4ms/step - loss: 0.1594 - acc: 0.9955\n",
      "Epoch 27/60\n",
      "1119/1119 [==============================] - 6s 5ms/step - loss: 0.1524 - acc: 0.9964\n",
      "Epoch 28/60\n",
      "1119/1119 [==============================] - 5s 4ms/step - loss: 0.1520 - acc: 0.9964\n",
      "Epoch 29/60\n",
      "1119/1119 [==============================] - 4s 4ms/step - loss: 0.1470 - acc: 0.9946\n",
      "Epoch 30/60\n",
      "1119/1119 [==============================] - 5s 4ms/step - loss: 0.1444 - acc: 0.9929\n",
      "Epoch 31/60\n",
      "1119/1119 [==============================] - 5s 5ms/step - loss: 0.1358 - acc: 0.9955\n",
      "Epoch 32/60\n",
      "1119/1119 [==============================] - 5s 4ms/step - loss: 0.1354 - acc: 0.9955\n",
      "Epoch 33/60\n",
      "1119/1119 [==============================] - 5s 4ms/step - loss: 0.1286 - acc: 0.9929\n",
      "Epoch 34/60\n",
      "1119/1119 [==============================] - 5s 4ms/step - loss: 0.1246 - acc: 0.9946\n",
      "Epoch 35/60\n",
      "1119/1119 [==============================] - 5s 4ms/step - loss: 0.1250 - acc: 0.9946\n",
      "Epoch 36/60\n",
      "1119/1119 [==============================] - 5s 5ms/step - loss: 0.1157 - acc: 0.9964\n",
      "Epoch 37/60\n",
      "1119/1119 [==============================] - 6s 5ms/step - loss: 0.1099 - acc: 0.9946\n",
      "Epoch 38/60\n",
      "1119/1119 [==============================] - 6s 5ms/step - loss: 0.1109 - acc: 0.9955\n",
      "Epoch 39/60\n",
      "1119/1119 [==============================] - 5s 4ms/step - loss: 0.1038 - acc: 0.9973\n",
      "Epoch 40/60\n",
      "1119/1119 [==============================] - 5s 4ms/step - loss: 0.1023 - acc: 0.9964\n",
      "Epoch 41/60\n",
      "1119/1119 [==============================] - 5s 4ms/step - loss: 0.0992 - acc: 0.9955\n",
      "Epoch 42/60\n",
      "1119/1119 [==============================] - 6s 5ms/step - loss: 0.0966 - acc: 0.9955\n",
      "Epoch 43/60\n",
      "1119/1119 [==============================] - 5s 4ms/step - loss: 0.0973 - acc: 0.9955\n",
      "Epoch 44/60\n",
      "1119/1119 [==============================] - 5s 4ms/step - loss: 0.0915 - acc: 0.9964\n",
      "Epoch 45/60\n",
      "1119/1119 [==============================] - 5s 4ms/step - loss: 0.0904 - acc: 0.9973\n",
      "Epoch 46/60\n",
      "1119/1119 [==============================] - 5s 5ms/step - loss: 0.0882 - acc: 0.9946\n",
      "Epoch 47/60\n",
      "1119/1119 [==============================] - 5s 4ms/step - loss: 0.0827 - acc: 0.9955\n",
      "Epoch 48/60\n",
      "1119/1119 [==============================] - 5s 4ms/step - loss: 0.0799 - acc: 0.9946\n",
      "Epoch 49/60\n",
      "1119/1119 [==============================] - 5s 4ms/step - loss: 0.0798 - acc: 0.9955\n",
      "Epoch 50/60\n",
      "1119/1119 [==============================] - 5s 4ms/step - loss: 0.0809 - acc: 0.9955\n",
      "Epoch 51/60\n",
      "1119/1119 [==============================] - 5s 4ms/step - loss: 0.0745 - acc: 0.9973\n",
      "Epoch 52/60\n",
      "1119/1119 [==============================] - 5s 4ms/step - loss: 0.0748 - acc: 0.9955\n",
      "Epoch 53/60\n",
      "1119/1119 [==============================] - 5s 4ms/step - loss: 0.0712 - acc: 0.9955\n",
      "Epoch 54/60\n",
      "1119/1119 [==============================] - 5s 4ms/step - loss: 0.0710 - acc: 0.9937\n",
      "Epoch 55/60\n",
      "1119/1119 [==============================] - 6s 5ms/step - loss: 0.0704 - acc: 0.9946\n",
      "Epoch 56/60\n",
      "1119/1119 [==============================] - 5s 4ms/step - loss: 0.0650 - acc: 0.9973\n",
      "Epoch 57/60\n",
      "1119/1119 [==============================] - 5s 4ms/step - loss: 0.0668 - acc: 0.9946\n",
      "Epoch 58/60\n",
      "1119/1119 [==============================] - 5s 5ms/step - loss: 0.0650 - acc: 0.9955\n",
      "Epoch 59/60\n",
      "1119/1119 [==============================] - 6s 6ms/step - loss: 0.0632 - acc: 0.9937\n",
      "Epoch 60/60\n",
      "1119/1119 [==============================] - 6s 6ms/step - loss: 0.0599 - acc: 0.9964\n"
     ]
    },
    {
     "data": {
      "text/plain": [
       "<keras.callbacks.History at 0x19ce613e198>"
      ]
     },
     "execution_count": 21,
     "metadata": {},
     "output_type": "execute_result"
    }
   ],
   "source": [
    "model.fit(x, y, epochs=60)"
   ]
  },
  {
   "cell_type": "markdown",
   "metadata": {},
   "source": [
    "### Evaluate the model"
   ]
  },
  {
   "cell_type": "code",
   "execution_count": 22,
   "metadata": {},
   "outputs": [
    {
     "name": "stdout",
     "output_type": "stream",
     "text": [
      "acc: 99.64%\n"
     ]
    }
   ],
   "source": [
    "scores = model.evaluate(x, y, verbose=0)\n",
    "print(\"%s: %.2f%%\" % (model.metrics_names[1], scores[1]*100))"
   ]
  },
  {
   "cell_type": "code",
   "execution_count": null,
   "metadata": {},
   "outputs": [],
   "source": []
  }
 ],
 "metadata": {
  "celltoolbar": "Slideshow",
  "kernelspec": {
   "display_name": "Python 3",
   "language": "python",
   "name": "python3"
  },
  "language_info": {
   "codemirror_mode": {
    "name": "ipython",
    "version": 3
   },
   "file_extension": ".py",
   "mimetype": "text/x-python",
   "name": "python",
   "nbconvert_exporter": "python",
   "pygments_lexer": "ipython3",
   "version": "3.6.4"
  }
 },
 "nbformat": 4,
 "nbformat_minor": 2
}
