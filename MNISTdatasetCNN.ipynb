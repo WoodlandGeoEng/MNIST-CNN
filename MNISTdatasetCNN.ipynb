{
 "cells": [
  {
   "cell_type": "markdown",
   "metadata": {},
   "source": [
    "# <center> MNIST Handrwitten Number Prediction Using CNN </center>\n",
    "\n",
    "***\n",
    "Predict the handwritten number in a greyscale image using a Convolutional Neural Network.\n",
    "MNIST contains 60,000 labelled images of handwritten digists from 0 - 9 and 10,000 test images also from 0-9.\n"
   ]
  },
  {
   "cell_type": "code",
   "execution_count": 2,
   "metadata": {
    "slideshow": {
     "slide_type": "-"
    }
   },
   "outputs": [
    {
     "name": "stderr",
     "output_type": "stream",
     "text": [
      "Using TensorFlow backend.\n"
     ]
    }
   ],
   "source": [
    "# Just to ignore warnings\n",
    "import warnings\n",
    "warnings.filterwarnings('ignore')\n",
    "\n",
    "import pandas as pd\n",
    "import livelossplot\n",
    "import keras\n",
    "from keras import Sequential\n",
    "import matplotlib.pyplot as plt\n"
   ]
  },
  {
   "cell_type": "code",
   "execution_count": 3,
   "metadata": {},
   "outputs": [],
   "source": [
    "# Import the numbers dataset from Keras.  Contains images of handwritten digits from 0-9 in greyscale (0-255)\n",
    "from keras.datasets import mnist\n",
    "(x_train, y_train), (x_test, y_test) = mnist.load_data()"
   ]
  },
  {
   "cell_type": "code",
   "execution_count": 3,
   "metadata": {},
   "outputs": [
    {
     "name": "stdout",
     "output_type": "stream",
     "text": [
      "(60000, 28, 28)\n",
      "(60000,)\n"
     ]
    }
   ],
   "source": [
    "print(x_train.shape)\n",
    "print(y_train.shape)\n"
   ]
  },
  {
   "cell_type": "code",
   "execution_count": 7,
   "metadata": {},
   "outputs": [],
   "source": [
    "#shape the data into arrays with the image sizes\n",
    "x_train = x_train.reshape(60000, 28, 28, 1)\n",
    "x_test = x_test.reshape(10000, 28, 28, 1)"
   ]
  },
  {
   "cell_type": "code",
   "execution_count": 8,
   "metadata": {},
   "outputs": [],
   "source": [
    "#pick an number to display one of the images\n",
    "image=1000"
   ]
  },
  {
   "cell_type": "code",
   "execution_count": 9,
   "metadata": {},
   "outputs": [],
   "source": [
    "#use matplotlib to plot an image\n",
    "picture = x_train[image]\n",
    "picture = picture.reshape(28,28) "
   ]
  },
  {
   "cell_type": "code",
   "execution_count": 21,
   "metadata": {},
   "outputs": [
    {
     "name": "stdout",
     "output_type": "stream",
     "text": [
      "\n",
      "digit =  0\n"
     ]
    },
    {
     "data": {
      "image/png": "[encoded data removed]",
      "text/plain": [
       "<Figure size 432x288 with 1 Axes>"
      ]
     },
     "metadata": {},
     "output_type": "display_data"
    }
   ],
   "source": [
    "# Display the labelled digit for the picture\n",
    "# https://jamesmccaffrey.wordpress.com/2018/07/14/displaying-an-mnist-digit-yet-once-again/\n",
    "\n",
    "lbl = y_train[image]\n",
    "print(\"\\ndigit = \", lbl)\n",
    "\n",
    "# Print a 'picture' of the number\n",
    "plt.imshow(picture, cmap='gray_r')\n",
    "plt.xticks([])\n",
    "plt.yticks([])\n",
    "plt.show() "
   ]
  },
  {
   "cell_type": "code",
   "execution_count": 8,
   "metadata": {},
   "outputs": [
    {
     "name": "stdout",
     "output_type": "stream",
     "text": [
      "00 00 00 00 00 00 00 00 00 00 00 00 00 00 00 00 00 00 00 00 00 00 00 00 00 00 00 00 \n",
      "00 00 00 00 00 00 00 00 00 00 00 00 00 00 00 00 00 00 00 00 00 00 00 00 00 00 00 00 \n",
      "00 00 00 00 00 00 00 00 00 00 00 00 00 00 00 00 00 00 00 00 00 00 00 00 00 00 00 00 \n",
      "00 00 00 00 00 00 00 00 00 00 00 00 00 00 00 00 00 00 00 00 00 00 00 00 00 00 00 00 \n",
      "00 00 00 00 00 00 00 00 00 00 00 00 00 00 00 00 00 00 00 00 00 00 00 00 00 00 00 00 \n",
      "00 00 00 00 00 00 00 00 00 00 00 00 00 00 24 92 FE FF FB 5F 06 00 00 00 00 00 00 00 \n",
      "00 00 00 00 00 00 00 00 00 00 00 00 03 61 EA FE FE E8 FE FE 23 00 00 00 00 00 00 00 \n",
      "00 00 00 00 00 00 00 00 00 00 00 59 8C FE FE AE 43 21 C8 FE BE 00 00 00 00 00 00 00 \n",
      "00 00 00 00 00 00 00 00 00 00 6C FD FE EB 33 01 00 00 0C FE FD 38 00 00 00 00 00 00 \n",
      "00 00 00 00 00 00 00 00 00 0C D8 FE F4 37 00 00 00 00 06 D5 FE 39 00 00 00 00 00 00 \n",
      "00 00 00 00 00 00 00 00 00 19 FE FE 84 00 00 00 00 00 00 A8 FE 39 00 00 00 00 00 00 \n",
      "00 00 00 00 00 00 00 00 00 2D FE F3 22 00 00 00 00 00 00 A8 FE 39 00 00 00 00 00 00 \n",
      "00 00 00 00 00 00 00 00 00 80 FE 9D 00 00 00 00 00 00 00 A8 FE 39 00 00 00 00 00 00 \n",
      "00 00 00 00 00 00 00 00 13 E4 FE 69 00 00 00 00 00 00 07 E4 FE 39 00 00 00 00 00 00 \n",
      "00 00 00 00 00 00 00 00 3A FE FE 57 00 00 00 00 00 00 0A FE F6 2F 00 00 00 00 00 00 \n",
      "00 00 00 00 00 00 00 00 3A FE FE 09 00 00 00 00 00 00 0A FE D2 00 00 00 00 00 00 00 \n",
      "00 00 00 00 00 00 00 00 3A FE FE 09 00 00 00 00 00 00 69 FE 5B 00 00 00 00 00 00 00 \n",
      "00 00 00 00 00 00 00 00 05 DB FE 09 00 00 00 00 00 18 E6 FE 18 00 00 00 00 00 00 00 \n",
      "00 00 00 00 00 00 00 00 00 D8 FE 09 00 00 00 00 00 54 FE FB 17 00 00 00 00 00 00 00 \n",
      "00 00 00 00 00 00 00 00 00 D8 FE 24 00 00 00 00 16 D0 FB 5E 00 00 00 00 00 00 00 00 \n",
      "00 00 00 00 00 00 00 00 00 81 FE 78 00 00 00 03 8C FE E5 00 00 00 00 00 00 00 00 00 \n",
      "00 00 00 00 00 00 00 00 00 53 FE DE 11 00 00 5B FE EC 35 00 00 00 00 00 00 00 00 00 \n",
      "00 00 00 00 00 00 00 00 00 12 EB FE 86 15 77 ED FE 7C 00 00 00 00 00 00 00 00 00 00 \n",
      "00 00 00 00 00 00 00 00 00 00 35 F9 FE EA FC FE AC 03 00 00 00 00 00 00 00 00 00 00 \n",
      "00 00 00 00 00 00 00 00 00 00 00 74 ED FE FE 85 14 00 00 00 00 00 00 00 00 00 00 00 \n",
      "00 00 00 00 00 00 00 00 00 00 00 00 00 00 00 00 00 00 00 00 00 00 00 00 00 00 00 00 \n",
      "00 00 00 00 00 00 00 00 00 00 00 00 00 00 00 00 00 00 00 00 00 00 00 00 00 00 00 00 \n",
      "00 00 00 00 00 00 00 00 00 00 00 00 00 00 00 00 00 00 00 00 00 00 00 00 00 00 00 00 \n"
     ]
    }
   ],
   "source": [
    "#Display the values of each of the nodes in the MINST image representing the handwritten number\n",
    "for rows in range(0,28):\n",
    "    for columns in range(0,28):\n",
    "      print(\"%02X \" % picture[rows][columns], end=\"\")\n",
    "    print(\"\")"
   ]
  },
  {
   "cell_type": "code",
   "execution_count": 9,
   "metadata": {},
   "outputs": [],
   "source": [
    "x_train = x_train/255\n",
    "x_test = x_test/255"
   ]
  },
  {
   "cell_type": "code",
   "execution_count": 10,
   "metadata": {},
   "outputs": [
    {
     "name": "stdout",
     "output_type": "stream",
     "text": [
      "WARNING:tensorflow:From C:\\ProgramData\\Anaconda3\\lib\\site-packages\\tensorflow\\python\\framework\\op_def_library.py:263: colocate_with (from tensorflow.python.framework.ops) is deprecated and will be removed in a future version.\n",
      "Instructions for updating:\n",
      "Colocations handled automatically by placer.\n"
     ]
    }
   ],
   "source": [
    "# Add layersfrom keras.models import Sequential\n",
    "model = Sequential()\n",
    "\n",
    "from keras.layers import Conv2D\n",
    "model.add(Conv2D(28, (3, 3), input_shape=(28, 28, 1), activation='relu'))"
   ]
  },
  {
   "cell_type": "code",
   "execution_count": 11,
   "metadata": {},
   "outputs": [],
   "source": [
    "#max ppoling layer\n",
    "from keras.layers import MaxPooling2D\n",
    "model.add(MaxPooling2D(pool_size=(2, 2)))"
   ]
  },
  {
   "cell_type": "code",
   "execution_count": 12,
   "metadata": {},
   "outputs": [],
   "source": [
    "#add flattening layer\n",
    "from keras.layers import Flatten\n",
    "model.add(Flatten())"
   ]
  },
  {
   "cell_type": "code",
   "execution_count": 13,
   "metadata": {},
   "outputs": [],
   "source": [
    "#add a dense layer\n",
    "from keras.layers import Dense\n",
    "model.add(Dense(units=128, activation='relu'))"
   ]
  },
  {
   "cell_type": "code",
   "execution_count": 14,
   "metadata": {},
   "outputs": [],
   "source": [
    "#add a dense layer\n",
    "model.add(Dense(units=64, activation='relu'))"
   ]
  },
  {
   "cell_type": "code",
   "execution_count": 15,
   "metadata": {},
   "outputs": [],
   "source": [
    "#add softmax activation on dense layer for output\n",
    "model.add(Dense(units=10, activation='softmax'))"
   ]
  },
  {
   "cell_type": "code",
   "execution_count": 17,
   "metadata": {},
   "outputs": [],
   "source": [
    "#compile the model.  Start with adam, but try other compilers\n",
    "model.compile(optimizer='adam', loss='sparse_categorical_crossentropy', metrics=['accuracy'])\n",
    "\n",
    "#use line below if not using livelossplot\n",
    "#model.fit(x_train, y_train, epochs=10)"
   ]
  },
  {
   "cell_type": "code",
   "execution_count": 18,
   "metadata": {},
   "outputs": [
    {
     "data": {
      "image/png": "[encoded data removed]",
      "text/plain": [
       "<Figure size 864x576 with 2 Axes>"
      ]
     },
     "metadata": {
      "needs_background": "light"
     },
     "output_type": "display_data"
    },
    {
     "name": "stdout",
     "output_type": "stream",
     "text": [
      "Log-loss (cost function):\n",
      "training   (min:    0.006, max:    0.167, cur:    0.006)\n",
      "validation (min:    0.039, max:    0.073, cur:    0.051)\n",
      "\n",
      "Accuracy:\n",
      "training   (min:    0.948, max:    0.998, cur:    0.998)\n",
      "validation (min:    0.977, max:    0.989, cur:    0.988)\n"
     ]
    },
    {
     "data": {
      "text/plain": [
       "<keras.callbacks.History at 0x20a4f8e0b38>"
      ]
     },
     "execution_count": 18,
     "metadata": {},
     "output_type": "execute_result"
    }
   ],
   "source": [
    "#use livelossplot to show the curve\n",
    "from livelossplot import PlotLossesKeras\n",
    "\n",
    "model.fit(x_train, y_train,\n",
    "          epochs=10,\n",
    "          validation_data=(x_test, y_test),\n",
    "          callbacks=[PlotLossesKeras()],\n",
    "          verbose=0)"
   ]
  },
  {
   "cell_type": "code",
   "execution_count": 19,
   "metadata": {},
   "outputs": [
    {
     "name": "stdout",
     "output_type": "stream",
     "text": [
      "10000/10000 [==============================] - 3s 274us/step\n"
     ]
    }
   ],
   "source": [
    "#pull the loss and accuracy from the model\n",
    "loss, accuracy = model.evaluate(x_test,y_test)"
   ]
  },
  {
   "cell_type": "code",
   "execution_count": 20,
   "metadata": {},
   "outputs": [
    {
     "data": {
      "text/plain": [
       "0.05052659668960805"
      ]
     },
     "execution_count": 20,
     "metadata": {},
     "output_type": "execute_result"
    }
   ],
   "source": [
    "loss"
   ]
  },
  {
   "cell_type": "code",
   "execution_count": 21,
   "metadata": {},
   "outputs": [
    {
     "data": {
      "text/plain": [
       "0.9878"
      ]
     },
     "execution_count": 21,
     "metadata": {},
     "output_type": "execute_result"
    }
   ],
   "source": [
    "accuracy"
   ]
  },
  {
   "cell_type": "markdown",
   "metadata": {},
   "source": [
    "## With minimal optimization, this simple CNN MLP (multi-level perceptron) model run through KERAS can predict the handwritten number in an image with an accuracy of 98.8%\n"
   ]
  }
 ],
 "metadata": {
  "kernelspec": {
   "display_name": "Python 3",
   "language": "python",
   "name": "python3"
  },
  "language_info": {
   "codemirror_mode": {
    "name": "ipython",
    "version": 3
   },
   "file_extension": ".py",
   "mimetype": "text/x-python",
   "name": "python",
   "nbconvert_exporter": "python",
   "pygments_lexer": "ipython3",
   "version": "3.6.4"
  }
 },
 "nbformat": 4,
 "nbformat_minor": 2
}
